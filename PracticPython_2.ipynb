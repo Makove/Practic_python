{
  "nbformat": 4,
  "nbformat_minor": 0,
  "metadata": {
    "colab": {
      "name": "PracticPython2.ipynb",
      "provenance": [],
      "collapsed_sections": [],
      "authorship_tag": "ABX9TyPEnIeGEEBwaH7s0DPcph9K",
      "include_colab_link": true
    },
    "kernelspec": {
      "name": "python3",
      "display_name": "Python 3"
    }
  },
  "cells": [
    {
      "cell_type": "markdown",
      "metadata": {
        "id": "view-in-github",
        "colab_type": "text"
      },
      "source": [
        "<a href=\"https://colab.research.google.com/github/Makove/gitrepa/blob/master/PracticPython_2.ipynb\" target=\"_parent\"><img src=\"https://colab.research.google.com/assets/colab-badge.svg\" alt=\"Open In Colab\"/></a>"
      ]
    },
    {
      "cell_type": "code",
      "metadata": {
        "id": "kOMsggKXNFpO"
      },
      "source": [
        "import numpy as np\n",
        "import sklearn\n",
        "from sklearn import preprocessing"
      ],
      "execution_count": null,
      "outputs": []
    },
    {
      "cell_type": "code",
      "metadata": {
        "id": "DxQFAe6jNeF0"
      },
      "source": [
        "input_data = np.array([[2.1, -1.9, 5.5],\n",
        " [-1.5, 2.4, 3.5],\n",
        "[0.5, -7.9, 5.6],\n",
        "[5.9, 2.3, -5.8]])\n"
      ],
      "execution_count": null,
      "outputs": []
    },
    {
      "cell_type": "code",
      "metadata": {
        "colab": {
          "base_uri": "https://localhost:8080/"
        },
        "id": "9le86YOxNxoc",
        "outputId": "ce57030f-59aa-443c-88b8-a639b509c0d6"
      },
      "source": [
        "data_binarized = preprocessing.Binarizer(threshold = 0.5).transform(input_data)\n",
        "print(\"\\nBinarized data:\\n\", data_binarized)"
      ],
      "execution_count": null,
      "outputs": [
        {
          "output_type": "stream",
          "text": [
            "\n",
            "Binarized data:\n",
            " [[1. 0. 1.]\n",
            " [0. 1. 1.]\n",
            " [0. 0. 1.]\n",
            " [1. 1. 0.]]\n"
          ],
          "name": "stdout"
        }
      ]
    },
    {
      "cell_type": "code",
      "metadata": {
        "id": "V5ftKGrhN_4r",
        "colab": {
          "base_uri": "https://localhost:8080/"
        },
        "outputId": "12a74ea0-9b6e-4ed1-d302-f0d63c24b074"
      },
      "source": [
        "print(\"Mean = \", input_data.mean(axis = 0))\n",
        "print(\"Std deviation = \", input_data.std(axis = 0))"
      ],
      "execution_count": null,
      "outputs": [
        {
          "output_type": "stream",
          "text": [
            "Mean =  [ 1.75  -1.275  2.2  ]\n",
            "Std deviation =  [2.71431391 4.20022321 4.69414529]\n"
          ],
          "name": "stdout"
        }
      ]
    },
    {
      "cell_type": "code",
      "metadata": {
        "colab": {
          "base_uri": "https://localhost:8080/"
        },
        "id": "a05GwSnrdANS",
        "outputId": "5422a7a3-829e-4610-dba5-a149d7886111"
      },
      "source": [
        "data_scaled = preprocessing.scale(input_data)\n",
        "print(\"Mean =\", data_scaled.mean(axis=0))\n",
        "print(\"Std deviation =\", data_scaled.std(axis = 0))"
      ],
      "execution_count": null,
      "outputs": [
        {
          "output_type": "stream",
          "text": [
            "Mean = [1.11022302e-16 0.00000000e+00 0.00000000e+00]\n",
            "Std deviation = [1. 1. 1.]\n"
          ],
          "name": "stdout"
        }
      ]
    },
    {
      "cell_type": "code",
      "metadata": {
        "colab": {
          "base_uri": "https://localhost:8080/"
        },
        "id": "oGOeoMSSdICS",
        "outputId": "51a25359-6c32-445a-c67a-387a1edb0884"
      },
      "source": [
        "data_scaler_minmax = preprocessing.MinMaxScaler(feature_range=(0,1))\n",
        "data_scaled_minmax = data_scaler_minmax.fit_transform(input_data)\n",
        "print (\"\\nMin max scaled data:\\n\", data_scaled_minmax)\n"
      ],
      "execution_count": null,
      "outputs": [
        {
          "output_type": "stream",
          "text": [
            "\n",
            "Min max scaled data:\n",
            " [[0.48648649 0.58252427 0.99122807]\n",
            " [0.         1.         0.81578947]\n",
            " [0.27027027 0.         1.        ]\n",
            " [1.         0.99029126 0.        ]]\n"
          ],
          "name": "stdout"
        }
      ]
    },
    {
      "cell_type": "code",
      "metadata": {
        "colab": {
          "base_uri": "https://localhost:8080/"
        },
        "id": "HqYhF7NidKxZ",
        "outputId": "c0a82a77-30a2-4e86-dc11-5dfa729ac42b"
      },
      "source": [
        "# Normalize data\n",
        "data_normalized_l1 = preprocessing.normalize(input_data, norm = 'l1')\n",
        "print(\"\\nL1 normalized data:\\n\", data_normalized_l1)\n"
      ],
      "execution_count": null,
      "outputs": [
        {
          "output_type": "stream",
          "text": [
            "\n",
            "L1 normalized data:\n",
            " [[ 0.22105263 -0.2         0.57894737]\n",
            " [-0.2027027   0.32432432  0.47297297]\n",
            " [ 0.03571429 -0.56428571  0.4       ]\n",
            " [ 0.42142857  0.16428571 -0.41428571]]\n"
          ],
          "name": "stdout"
        }
      ]
    },
    {
      "cell_type": "code",
      "metadata": {
        "colab": {
          "base_uri": "https://localhost:8080/"
        },
        "id": "uiQ2RMGYdOmi",
        "outputId": "7d542a38-efa8-4a96-9346-a01f533370a0"
      },
      "source": [
        "# Normalize data\n",
        "data_normalized_l2 = preprocessing.normalize(input_data, norm = 'l2')\n",
        "print(\"\\nL2 normalized data:\\n\", data_normalized_l2)"
      ],
      "execution_count": null,
      "outputs": [
        {
          "output_type": "stream",
          "text": [
            "\n",
            "L2 normalized data:\n",
            " [[ 0.33946114 -0.30713151  0.88906489]\n",
            " [-0.33325106  0.53320169  0.7775858 ]\n",
            " [ 0.05156558 -0.81473612  0.57753446]\n",
            " [ 0.68706914  0.26784051 -0.6754239 ]]\n"
          ],
          "name": "stdout"
        }
      ]
    },
    {
      "cell_type": "code",
      "metadata": {
        "id": "2I5v9F_odRdp"
      },
      "source": [
        "# Sample input labels\n",
        "input_labels = ['red','black','red','green','black','yellow','white']\n"
      ],
      "execution_count": null,
      "outputs": []
    },
    {
      "cell_type": "code",
      "metadata": {
        "colab": {
          "base_uri": "https://localhost:8080/"
        },
        "id": "Et_mUrbtdWqZ",
        "outputId": "1fcb4569-4b1e-472a-a25a-5bb7818d105a"
      },
      "source": [
        "# Creating the label encoder\n",
        "encoder = preprocessing.LabelEncoder()\n",
        "encoder.fit(input_labels)\n"
      ],
      "execution_count": null,
      "outputs": [
        {
          "output_type": "execute_result",
          "data": {
            "text/plain": [
              "LabelEncoder()"
            ]
          },
          "metadata": {
            "tags": []
          },
          "execution_count": 21
        }
      ]
    },
    {
      "cell_type": "code",
      "metadata": {
        "colab": {
          "base_uri": "https://localhost:8080/"
        },
        "id": "YJvZ5S-KdYMx",
        "outputId": "275d89ba-4df4-4fc9-a745-7f860e0082ff"
      },
      "source": [
        "# encoding a set of labels\n",
        "test_labels = ['green','red','black']\n",
        "encoded_values = encoder.transform(test_labels)\n",
        "print(\"\\nLabels =\", test_labels)\n"
      ],
      "execution_count": null,
      "outputs": [
        {
          "output_type": "stream",
          "text": [
            "\n",
            "Labels = ['green', 'red', 'black']\n"
          ],
          "name": "stdout"
        }
      ]
    },
    {
      "cell_type": "code",
      "metadata": {
        "colab": {
          "base_uri": "https://localhost:8080/"
        },
        "id": "74Pt-YBTdaTh",
        "outputId": "3d27db05-a4e7-4393-8c00-40817756ab3a"
      },
      "source": [
        "print(\"Encoded values =\", list(encoded_values))"
      ],
      "execution_count": null,
      "outputs": [
        {
          "output_type": "stream",
          "text": [
            "Encoded values = [1, 2, 0]\n"
          ],
          "name": "stdout"
        }
      ]
    },
    {
      "cell_type": "code",
      "metadata": {
        "colab": {
          "base_uri": "https://localhost:8080/"
        },
        "id": "i1gzSA8xdcYJ",
        "outputId": "20c0d796-0b58-42ad-fb4b-8d36907d1e1c"
      },
      "source": [
        "# decoding a set of values\n",
        "encoded_values = [3,0,4,1]\n",
        "decoded_list = encoder.inverse_transform(encoded_values)\n",
        "print(\"\\nEncoded values =\", encoded_values)"
      ],
      "execution_count": null,
      "outputs": [
        {
          "output_type": "stream",
          "text": [
            "\n",
            "Encoded values = [3, 0, 4, 1]\n"
          ],
          "name": "stdout"
        }
      ]
    }
  ]
}